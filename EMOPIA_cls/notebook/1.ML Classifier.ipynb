{
 "cells": [
  {
   "cell_type": "code",
   "execution_count": 2,
   "id": "bf5f1ec3",
   "metadata": {},
   "outputs": [],
   "source": [
    "import os\n",
    "import pretty_midi\n",
    "import pandas as pd\n",
    "from tqdm.notebook import tqdm\n",
    "import matplotlib.pyplot as plt\n",
    "import librosa"
   ]
  },
  {
   "cell_type": "code",
   "execution_count": 3,
   "id": "f40fa025",
   "metadata": {},
   "outputs": [],
   "source": [
    "train = pd.read_csv(\"../dataset/split/train.csv\", index_col=0)\n",
    "val= pd.read_csv(\"../dataset/split/val.csv\", index_col=0)\n",
    "test= pd.read_csv(\"../dataset/split/test.csv\", index_col=0)\n",
    "train_val = pd.concat([train, val], axis=0)"
   ]
  },
  {
   "cell_type": "code",
   "execution_count": 5,
   "id": "1ec56c9a",
   "metadata": {},
   "outputs": [],
   "source": [
    "def get_midi_df(fn):\n",
    "    midi_data = pretty_midi.PrettyMIDI(fn)\n",
    "    midi_data.remove_invalid_notes()\n",
    "    midi_list = []\n",
    "    for instrument in midi_data.instruments:\n",
    "        for note in instrument.notes:\n",
    "            start = note.start\n",
    "            end = note.end\n",
    "            pitch = note.pitch\n",
    "            velocity = note.velocity\n",
    "            midi_list.append([start, end, pitch, velocity])\n",
    "    midi_list = sorted(midi_list, key=lambda x: (x[0], x[2]))\n",
    "    midi_df = pd.DataFrame(midi_list, columns=['start', 'end', 'pitch', 'velocity'])\n",
    "    midi_df['note_length'] = midi_df['end'] - midi_df['start']\n",
    "    return midi_df\n",
    "def get_song_level_feature(fn):\n",
    "    results = {}\n",
    "    midi_df = get_midi_df(fn)\n",
    "    results['note_length_mean'] = midi_df['note_length'].mean()\n",
    "    results['velocity_mean'] = midi_df['velocity'].mean()\n",
    "    return results\n",
    "def _feature_extractor(train_val):\n",
    "    feature_list = []\n",
    "    for fname in train_val.index:\n",
    "        midi_features = get_song_level_feature(os.path.join(midi_path, fname + \".mid\"))\n",
    "        matlab_features = pd.read_csv(os.path.join(matlab_path, fname + \".csv\"))\n",
    "        midi_features['keyname'] = matlab_features['keyname'].item()\n",
    "        midi_features['beatNoteDensity'] = matlab_features['beatNoteDensity'].item()\n",
    "        feature_list.append(midi_features)\n",
    "    return feature_list"
   ]
  },
  {
   "cell_type": "code",
   "execution_count": 6,
   "id": "a79fe085",
   "metadata": {},
   "outputs": [],
   "source": [
    "midi_path = \"../../dataset/PEmoDataset/midis/\"\n",
    "# key extract from matlab\n",
    "matlab_path = \"../dataset/matlab_feature/\"\n",
    "train_val_list = _feature_extractor(train_val)\n",
    "test_list = _feature_extractor(test)"
   ]
  },
  {
   "cell_type": "code",
   "execution_count": 8,
   "id": "cfb3916e",
   "metadata": {},
   "outputs": [],
   "source": [
    "import numpy as np\n",
    "import matplotlib.pyplot as plt  \n",
    "from sklearn.linear_model import LogisticRegression\n",
    "from sklearn.metrics import plot_confusion_matrix"
   ]
  },
  {
   "cell_type": "code",
   "execution_count": 9,
   "id": "cf7c2b14",
   "metadata": {},
   "outputs": [],
   "source": [
    "def _get_labels(label_quad, cls_type):\n",
    "    if cls_type == \"AV\":\n",
    "        results = np.array(label_quad)\n",
    "    elif cls_type == \"A\":\n",
    "        labels = []\n",
    "        for label in label_quad:\n",
    "            if label in ['Q1','Q2']:\n",
    "                labels.append('HA')\n",
    "            elif label in ['Q3','Q4']:\n",
    "                labels.append('LA')\n",
    "        results = np.array(labels)\n",
    "    elif cls_type == \"V\":\n",
    "        labels = []\n",
    "        for label in label_quad:\n",
    "            if label in ['Q1','Q4']:\n",
    "                labels.append('HV')\n",
    "            elif label in ['Q2','Q3']:\n",
    "                labels.append('LV') \n",
    "        results = np.array(labels)\n",
    "    return results\n",
    "\n",
    "def _get_train_test(train_val_list, test_list, cls_type = \"AV\"):\n",
    "    m_x_train = pd.DataFrame(train_val_list)\n",
    "    m_x_train = pd.concat([m_x_train, pd.get_dummies(m_x_train.keyname)],axis=1).drop(columns=['keyname'])\n",
    "    m_x_test = pd.DataFrame(test_list)\n",
    "    m_x_test = pd.concat([m_x_test, pd.get_dummies(m_x_test.keyname)],axis=1).drop(columns=['keyname'])\n",
    "    total_col = set(m_x_train.columns) | set(m_x_test.columns)\n",
    "    for i in total_col:\n",
    "        if i not in m_x_test.columns:\n",
    "            m_x_test[i]= [0 for _ in range(len(m_x_test))]\n",
    "    m_y_train = list(train_val['label'])\n",
    "    m_y_test = list(test['label'])\n",
    "    m_y_train = _get_labels(m_y_train, cls_type)  \n",
    "    m_y_test = _get_labels(m_y_test, cls_type)  \n",
    "    return m_x_train, m_y_train, m_x_test, m_y_test"
   ]
  },
  {
   "cell_type": "code",
   "execution_count": 10,
   "id": "a914e915",
   "metadata": {},
   "outputs": [],
   "source": [
    "def _get_results(cls_type = \"AV\"):\n",
    "    m_x_train, m_y_train, m_x_test, m_y_test = _get_train_test(train_val_list, test_list, cls_type = cls_type)\n",
    "    clf = LogisticRegression(random_state=42).fit(m_x_train, m_y_train)\n",
    "    return clf.score(m_x_test, m_y_test)"
   ]
  },
  {
   "cell_type": "code",
   "execution_count": 24,
   "id": "e697cf54",
   "metadata": {},
   "outputs": [],
   "source": [
    "midi_ml = {\n",
    "    \"AV\": _get_results(cls_type = \"AV\"), \n",
    "    \"A\": _get_results(cls_type = \"A\"), \n",
    "    \"V\": _get_results(cls_type = \"V\")\n",
    "}"
   ]
  },
  {
   "cell_type": "code",
   "execution_count": 23,
   "id": "fca4db90",
   "metadata": {},
   "outputs": [
    {
     "data": {
      "text/plain": [
       "{'AV': 0.5813953488372093, 'A': 0.8488372093023255, 'V': 0.6511627906976745}"
      ]
     },
     "execution_count": 23,
     "metadata": {},
     "output_type": "execute_result"
    }
   ],
   "source": [
    "midi_ml"
   ]
  },
  {
   "cell_type": "code",
   "execution_count": 12,
   "id": "a9fb5443",
   "metadata": {},
   "outputs": [],
   "source": [
    "data_dir = \"../../dataset/PEmoDataset/audios/seg\""
   ]
  },
  {
   "cell_type": "code",
   "execution_count": 20,
   "id": "73678c66",
   "metadata": {
    "scrolled": true
   },
   "outputs": [],
   "source": [
    "tr_mfcc_vec = []\n",
    "for idx in tqdm(range(len(train_val))):\n",
    "    y, _ = librosa.load(os.path.join(data_dir, train_val.iloc[idx].name + \".mp3\"), sr=22050)\n",
    "    mfcc = librosa.feature.mfcc(y=y, sr=22050, n_fft=1024, hop_length=512, win_length=1024)\n",
    "    tr_mfcc_vec.append(mfcc)\n",
    "    \n",
    "te_mfcc_vec = []\n",
    "for idx in tqdm(range(len(test))):\n",
    "    y, _ = librosa.load(os.path.join(data_dir, test.iloc[idx].name + \".mp3\"), sr=22050)\n",
    "    mfcc = librosa.feature.mfcc(y=y, sr=22050, n_fft=1024, hop_length=512, win_length=1024)\n",
    "    te_mfcc_vec.append(mfcc)"
   ]
  },
  {
   "cell_type": "code",
   "execution_count": 14,
   "id": "cda50ec5",
   "metadata": {},
   "outputs": [],
   "source": [
    "def _audioML_results(cls_type = \"AV\"):\n",
    "    y_train = _get_labels(train_val['label'], cls_type)\n",
    "    y_test = _get_labels(test['label'], cls_type)\n",
    "    tr_mfcc = [i.mean(axis=1) for i in tr_mfcc_vec]\n",
    "    te_mfcc = [i.mean(axis=1) for i in te_mfcc_vec]\n",
    "    clf = LogisticRegression(random_state=42).fit(np.stack(tr_mfcc), y_train)\n",
    "    return clf.score(np.stack(te_mfcc), y_test)"
   ]
  },
  {
   "cell_type": "code",
   "execution_count": 19,
   "id": "da26e966",
   "metadata": {},
   "outputs": [],
   "source": [
    "audio_ml = {\n",
    "    \"AV\": _audioML_results(cls_type = \"AV\"), \n",
    "    \"A\": _audioML_results(cls_type = \"A\"), \n",
    "    \"V\": _audioML_results(cls_type = \"V\")\n",
    "}"
   ]
  },
  {
   "cell_type": "code",
   "execution_count": 18,
   "id": "04cf98e2",
   "metadata": {},
   "outputs": [
    {
     "data": {
      "text/plain": [
       "{'AV': 0.5232558139534884, 'A': 0.9186046511627907, 'V': 0.5581395348837209}"
      ]
     },
     "execution_count": 18,
     "metadata": {},
     "output_type": "execute_result"
    }
   ],
   "source": [
    "audio_ml"
   ]
  },
  {
   "cell_type": "code",
   "execution_count": null,
   "id": "5a534eb7",
   "metadata": {},
   "outputs": [],
   "source": []
  }
 ],
 "metadata": {
  "kernelspec": {
   "display_name": "Python 3 (ipykernel)",
   "language": "python",
   "name": "python3"
  },
  "language_info": {
   "codemirror_mode": {
    "name": "ipython",
    "version": 3
   },
   "file_extension": ".py",
   "mimetype": "text/x-python",
   "name": "python",
   "nbconvert_exporter": "python",
   "pygments_lexer": "ipython3",
   "version": "3.8.5"
  }
 },
 "nbformat": 4,
 "nbformat_minor": 5
}
